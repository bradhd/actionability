{
 "cells": [
  {
   "cell_type": "code",
   "execution_count": 16,
   "metadata": {
    "collapsed": true
   },
   "outputs": [],
   "source": [
    "%matplotlib inline\n",
    "from matplotlib import pyplot as plt\n",
    "import pandas as pd\n",
    "import numpy as np\n",
    "import actionability, re\n",
    "import seaborn as sns\n",
    "from sklearn.linear_model import LogisticRegression\n",
    "from IPython.display import HTML"
   ]
  },
  {
   "cell_type": "markdown",
   "metadata": {},
   "source": [
    "We grouped the ratings from the original data set by URL (equivalently, by unit ID):"
   ]
  },
  {
   "cell_type": "code",
   "execution_count": 2,
   "metadata": {
    "collapsed": false
   },
   "outputs": [],
   "source": [
    "raw_action_df = pd.read_csv('../data/actionability.csv', index_col='_unit_id', encoding='utf-8')"
   ]
  },
  {
   "cell_type": "code",
   "execution_count": 3,
   "metadata": {
    "collapsed": false
   },
   "outputs": [
    {
     "name": "stdout",
     "output_type": "stream",
     "text": [
      "action                                               ListenAction\n",
      "action_inst     ListenAction: Does the web page offer you the ...\n",
      "actionrating                                                   13\n",
      "rating_count                                                   15\n",
      "action_pct                                              0.8666667\n",
      "domain                                                   rdio.com\n",
      "site            http://www.rdio.com/browse/?ppKey=stations&ppS...\n",
      "html            <!DOCTYPE html>\\n<html>\\n  <head>\\n    \\n    \\...\n",
      "Name: 716816295, dtype: object\n"
     ]
    }
   ],
   "source": [
    "print raw_action_df.iloc[0]"
   ]
  },
  {
   "cell_type": "markdown",
   "metadata": {},
   "source": [
    "The column <code>html</code> is the HTML source of the webpage as obtained with the library <code>requests</code>."
   ]
  },
  {
   "cell_type": "markdown",
   "metadata": {},
   "source": [
    "The column <code>actionrating</code> gives the number of \"Yes\" ratings for that URL, and <code>rating_count</code> is the total number of ratings. We take the ratio of these and call it <code>action_pct</code>. Ideally this figure should be 1 or 0, indicating that all users agreed on the (non)actionability of the page; a value of <code>action_pct</code> near 0.5 indicates a lack of consensus on that item. We therefore exclude those webpages whose <code>action_pct</code> is within 0.1 of 0.5."
   ]
  },
  {
   "cell_type": "code",
   "execution_count": 4,
   "metadata": {
    "collapsed": true
   },
   "outputs": [],
   "source": [
    "action_df = raw_action_df[raw_action_df.action_pct.apply(lambda x:abs(x-0.5)) > 0.1].copy()"
   ]
  },
  {
   "cell_type": "markdown",
   "metadata": {},
   "source": [
    "This leaves us with about 80% of the original data:"
   ]
  },
  {
   "cell_type": "code",
   "execution_count": 5,
   "metadata": {
    "collapsed": false
   },
   "outputs": [
    {
     "data": {
      "text/plain": [
       "0.7984496124031008"
      ]
     },
     "execution_count": 5,
     "metadata": {},
     "output_type": "execute_result"
    }
   ],
   "source": [
    "len(action_df)*1.0/len(raw_action_df)"
   ]
  },
  {
   "cell_type": "markdown",
   "metadata": {},
   "source": [
    "For classification purposes, we will say that a webpage is *actionable* if it has <code>action_pct > 0.5</code>:"
   ]
  },
  {
   "cell_type": "code",
   "execution_count": 6,
   "metadata": {
    "collapsed": false
   },
   "outputs": [],
   "source": [
    "action_df['is_actionable'] = (action_df.action_pct > 0.5)"
   ]
  },
  {
   "cell_type": "markdown",
   "metadata": {},
   "source": [
    "Now let's construct some numerical features. By *token* we mean here a string of Latin letters. Using <code>lxml</code> we parse each HTML file and extract the tokens from all link texts and the tokens from all button texts, all converted to lowercase. We call these *clickable tokens*. The methods to do this are found in <code>actionability.py</code>."
   ]
  },
  {
   "cell_type": "code",
   "execution_count": 7,
   "metadata": {
    "collapsed": false
   },
   "outputs": [],
   "source": [
    "action_df['link_text_token_string'] = action_df.html.apply(actionability.html_to_link_text_token_string)\n",
    "action_df['button_name_token_string'] = action_df.html.apply(actionability.html_to_button_name_token_string)\n",
    "action_df['clickable_tokens'] = action_df.link_text_token_string + ' ' + action_df.button_name_token_string"
   ]
  },
  {
   "cell_type": "code",
   "execution_count": 8,
   "metadata": {
    "collapsed": false
   },
   "outputs": [
    {
     "data": {
      "text/plain": [
       "_unit_id\n",
       "716816295                                                     \n",
       "716817011    free trial music apps devices pricing listen n...\n",
       "716817012    subscribe to our rss feed follow us on twitter...\n",
       "716817013    subscribe to our rss feed follow us on twitter...\n",
       "716817014    subscribe to our rss feed follow us on twitter...\n",
       "Name: clickable_tokens, dtype: object"
      ]
     },
     "execution_count": 8,
     "metadata": {},
     "output_type": "execute_result"
    }
   ],
   "source": [
    "action_df.clickable_tokens.head()"
   ]
  },
  {
   "cell_type": "markdown",
   "metadata": {},
   "source": [
    "We will convert these strings to bags of words using <code>gensim</code>. This is done via the function <code>actionability.cross_validate_lolo</code>, called later."
   ]
  },
  {
   "cell_type": "markdown",
   "metadata": {},
   "source": [
    "To use these features to predict actionability, we employ $\\ell^2$-regularized logistic regression."
   ]
  },
  {
   "cell_type": "code",
   "execution_count": 9,
   "metadata": {
    "collapsed": true
   },
   "outputs": [],
   "source": [
    "clf = LogisticRegression(C=0.6, penalty='l2')"
   ]
  },
  {
   "cell_type": "markdown",
   "metadata": {},
   "source": [
    "We construct one classifier for each type of action, as we expect that each action should be associated with its own set of clickable tokens."
   ]
  },
  {
   "cell_type": "markdown",
   "metadata": {},
   "source": [
    "For each action, we cross-validate by leaving each domain out as a test set:"
   ]
  },
  {
   "cell_type": "code",
   "execution_count": 10,
   "metadata": {
    "collapsed": false
   },
   "outputs": [
    {
     "name": "stderr",
     "output_type": "stream",
     "text": [
      "/home/bradhd/anaconda/lib/python2.7/site-packages/sklearn/metrics/classification.py:958: UndefinedMetricWarning: Precision and F-score are ill-defined and being set to 0.0 due to no predicted samples.\n",
      "  'precision', 'predicted', average, warn_for)\n"
     ]
    }
   ],
   "source": [
    "cvdfs = []\n",
    "summaries = []\n",
    "\n",
    "for action in np.unique(action_df.action):\n",
    "    df = action_df[action_df.action==action]\n",
    "    \n",
    "    X_tokens = (df.clickable_tokens).values\n",
    "    y = df.is_actionable.values\n",
    "    labels = df.domain.values\n",
    "\n",
    "    cvdf, all_y_test, all_y_pred = actionability.cross_validate_lolo(X_tokens, y, labels, [clf], use_tfidf=False)\n",
    "    cvdf['action'] = action\n",
    "    cvdfs += [cvdf]\n",
    "    precision, recall, accuracy, true_proportion, predicted_proportion, auc = actionability.y_summary(all_y_test, all_y_pred)\n",
    "    summaries += [{'action':action, 'precision':precision, \n",
    "                  'recall':recall, 'accuracy':accuracy, \n",
    "                  'true_proportion':true_proportion, 'predicted_proportion':predicted_proportion, 'auc':auc}]\n",
    "cvdf = pd.concat(cvdfs)\n",
    "cvdf.set_index('domain',inplace=True)\n",
    "del cvdfs"
   ]
  },
  {
   "cell_type": "markdown",
   "metadata": {},
   "source": [
    "First, the overall results obtained by combining each out-of-sample prediction:"
   ]
  },
  {
   "cell_type": "code",
   "execution_count": 11,
   "metadata": {
    "collapsed": false
   },
   "outputs": [
    {
     "data": {
      "text/html": [
       "<div style=\"max-height:1000px;max-width:1500px;overflow:auto;\">\n",
       "<table border=\"1\" class=\"dataframe\">\n",
       "  <thead>\n",
       "    <tr style=\"text-align: right;\">\n",
       "      <th></th>\n",
       "      <th>accuracy</th>\n",
       "      <th>auc</th>\n",
       "      <th>precision</th>\n",
       "      <th>predicted_proportion</th>\n",
       "      <th>recall</th>\n",
       "      <th>true_proportion</th>\n",
       "    </tr>\n",
       "    <tr>\n",
       "      <th>action</th>\n",
       "      <th></th>\n",
       "      <th></th>\n",
       "      <th></th>\n",
       "      <th></th>\n",
       "      <th></th>\n",
       "      <th></th>\n",
       "    </tr>\n",
       "  </thead>\n",
       "  <tbody>\n",
       "    <tr>\n",
       "      <th>ListenAction</th>\n",
       "      <td> 0.842365</td>\n",
       "      <td> 0.804853</td>\n",
       "      <td> 0.923333</td>\n",
       "      <td> 0.738916</td>\n",
       "      <td> 0.871069</td>\n",
       "      <td> 0.783251</td>\n",
       "    </tr>\n",
       "    <tr>\n",
       "      <th>TicketsAction</th>\n",
       "      <td> 0.607372</td>\n",
       "      <td> 0.619854</td>\n",
       "      <td> 0.728522</td>\n",
       "      <td> 0.466346</td>\n",
       "      <td> 0.560847</td>\n",
       "      <td> 0.605769</td>\n",
       "    </tr>\n",
       "  </tbody>\n",
       "</table>\n",
       "</div>"
      ],
      "text/plain": [
       "               accuracy       auc  precision  predicted_proportion    recall  \\\n",
       "action                                                                         \n",
       "ListenAction   0.842365  0.804853   0.923333              0.738916  0.871069   \n",
       "TicketsAction  0.607372  0.619854   0.728522              0.466346  0.560847   \n",
       "\n",
       "               true_proportion  \n",
       "action                          \n",
       "ListenAction          0.783251  \n",
       "TicketsAction         0.605769  "
      ]
     },
     "execution_count": 11,
     "metadata": {},
     "output_type": "execute_result"
    }
   ],
   "source": [
    "pd.DataFrame(summaries).set_index('action')"
   ]
  },
  {
   "cell_type": "markdown",
   "metadata": {},
   "source": [
    "Decent results for ListenAction, less so for TicketsAction.\n",
    "\n",
    "The column <code>predicted_proportion</code> is the total proportion of webpages predicted to be actionable; <code>true_proportion</code> is the true proportion, independent of the classifier."
   ]
  },
  {
   "cell_type": "markdown",
   "metadata": {},
   "source": [
    "Let's take a closer look. Here are the results on each domain as a test set:"
   ]
  },
  {
   "cell_type": "code",
   "execution_count": 12,
   "metadata": {
    "collapsed": false
   },
   "outputs": [
    {
     "data": {
      "text/html": [
       "<div style=\"max-height:1000px;max-width:1500px;overflow:auto;\">\n",
       "<table border=\"1\" class=\"dataframe\">\n",
       "  <thead>\n",
       "    <tr style=\"text-align: right;\">\n",
       "      <th></th>\n",
       "      <th>page_count</th>\n",
       "      <th>accuracy</th>\n",
       "      <th>precision</th>\n",
       "      <th>recall</th>\n",
       "      <th>true_proportion</th>\n",
       "      <th>predicted_proportion</th>\n",
       "      <th>auc</th>\n",
       "      <th>action</th>\n",
       "    </tr>\n",
       "    <tr>\n",
       "      <th>domain</th>\n",
       "      <th></th>\n",
       "      <th></th>\n",
       "      <th></th>\n",
       "      <th></th>\n",
       "      <th></th>\n",
       "      <th></th>\n",
       "      <th></th>\n",
       "      <th></th>\n",
       "    </tr>\n",
       "  </thead>\n",
       "  <tbody>\n",
       "    <tr>\n",
       "      <th>rhapsody.com</th>\n",
       "      <td> 89</td>\n",
       "      <td> 0.584270</td>\n",
       "      <td> 0.814815</td>\n",
       "      <td> 0.619718</td>\n",
       "      <td> 0.797753</td>\n",
       "      <td> 0.606742</td>\n",
       "      <td> 0.532081</td>\n",
       "      <td>  ListenAction</td>\n",
       "    </tr>\n",
       "    <tr>\n",
       "      <th>pandora.com</th>\n",
       "      <td> 49</td>\n",
       "      <td> 0.714286</td>\n",
       "      <td> 0.703704</td>\n",
       "      <td> 0.760000</td>\n",
       "      <td> 0.510204</td>\n",
       "      <td> 0.551020</td>\n",
       "      <td> 0.713333</td>\n",
       "      <td>  ListenAction</td>\n",
       "    </tr>\n",
       "    <tr>\n",
       "      <th>soundcloud.com</th>\n",
       "      <td> 93</td>\n",
       "      <td> 0.913978</td>\n",
       "      <td> 0.976471</td>\n",
       "      <td> 0.932584</td>\n",
       "      <td> 0.956989</td>\n",
       "      <td> 0.913978</td>\n",
       "      <td> 0.716292</td>\n",
       "      <td>  ListenAction</td>\n",
       "    </tr>\n",
       "    <tr>\n",
       "      <th>spotify.com</th>\n",
       "      <td> 84</td>\n",
       "      <td> 0.940476</td>\n",
       "      <td> 0.950000</td>\n",
       "      <td> 0.966102</td>\n",
       "      <td> 0.702381</td>\n",
       "      <td> 0.714286</td>\n",
       "      <td> 0.923051</td>\n",
       "      <td>  ListenAction</td>\n",
       "    </tr>\n",
       "    <tr>\n",
       "      <th>rdio.com</th>\n",
       "      <td> 91</td>\n",
       "      <td> 1.000000</td>\n",
       "      <td> 1.000000</td>\n",
       "      <td> 1.000000</td>\n",
       "      <td> 0.813187</td>\n",
       "      <td> 0.813187</td>\n",
       "      <td> 1.000000</td>\n",
       "      <td>  ListenAction</td>\n",
       "    </tr>\n",
       "    <tr>\n",
       "      <th>stubhub.com</th>\n",
       "      <td> 56</td>\n",
       "      <td> 0.142857</td>\n",
       "      <td> 0.000000</td>\n",
       "      <td> 0.000000</td>\n",
       "      <td> 0.857143</td>\n",
       "      <td> 0.000000</td>\n",
       "      <td> 0.500000</td>\n",
       "      <td> TicketsAction</td>\n",
       "    </tr>\n",
       "    <tr>\n",
       "      <th>livenation.com</th>\n",
       "      <td> 62</td>\n",
       "      <td> 0.209677</td>\n",
       "      <td> 0.000000</td>\n",
       "      <td> 0.000000</td>\n",
       "      <td> 0.500000</td>\n",
       "      <td> 0.290323</td>\n",
       "      <td> 0.209677</td>\n",
       "      <td> TicketsAction</td>\n",
       "    </tr>\n",
       "    <tr>\n",
       "      <th>seatgeek.com</th>\n",
       "      <td> 79</td>\n",
       "      <td> 0.481013</td>\n",
       "      <td> 0.782609</td>\n",
       "      <td> 0.537313</td>\n",
       "      <td> 0.848101</td>\n",
       "      <td> 0.582278</td>\n",
       "      <td> 0.351990</td>\n",
       "      <td> TicketsAction</td>\n",
       "    </tr>\n",
       "    <tr>\n",
       "      <th>songkick.com</th>\n",
       "      <td> 79</td>\n",
       "      <td> 0.544304</td>\n",
       "      <td> 0.545455</td>\n",
       "      <td> 0.857143</td>\n",
       "      <td> 0.531646</td>\n",
       "      <td> 0.835443</td>\n",
       "      <td> 0.523166</td>\n",
       "      <td> TicketsAction</td>\n",
       "    </tr>\n",
       "    <tr>\n",
       "      <th>razorgator.com</th>\n",
       "      <td> 85</td>\n",
       "      <td> 0.600000</td>\n",
       "      <td> 1.000000</td>\n",
       "      <td> 0.585366</td>\n",
       "      <td> 0.964706</td>\n",
       "      <td> 0.564706</td>\n",
       "      <td> 0.792683</td>\n",
       "      <td> TicketsAction</td>\n",
       "    </tr>\n",
       "    <tr>\n",
       "      <th>thrillcall.com</th>\n",
       "      <td> 91</td>\n",
       "      <td> 0.791209</td>\n",
       "      <td> 0.860465</td>\n",
       "      <td> 0.740000</td>\n",
       "      <td> 0.549451</td>\n",
       "      <td> 0.472527</td>\n",
       "      <td> 0.796829</td>\n",
       "      <td> TicketsAction</td>\n",
       "    </tr>\n",
       "    <tr>\n",
       "      <th>bandsintown.com</th>\n",
       "      <td> 99</td>\n",
       "      <td> 0.888889</td>\n",
       "      <td> 0.083333</td>\n",
       "      <td> 1.000000</td>\n",
       "      <td> 0.010101</td>\n",
       "      <td> 0.121212</td>\n",
       "      <td> 0.943878</td>\n",
       "      <td> TicketsAction</td>\n",
       "    </tr>\n",
       "    <tr>\n",
       "      <th>ticketmaster.com</th>\n",
       "      <td> 73</td>\n",
       "      <td> 0.904110</td>\n",
       "      <td> 0.931034</td>\n",
       "      <td> 0.947368</td>\n",
       "      <td> 0.780822</td>\n",
       "      <td> 0.794521</td>\n",
       "      <td> 0.848684</td>\n",
       "      <td> TicketsAction</td>\n",
       "    </tr>\n",
       "  </tbody>\n",
       "</table>\n",
       "</div>"
      ],
      "text/plain": [
       "                  page_count  accuracy  precision    recall  true_proportion  \\\n",
       "domain                                                                         \n",
       "rhapsody.com              89  0.584270   0.814815  0.619718         0.797753   \n",
       "pandora.com               49  0.714286   0.703704  0.760000         0.510204   \n",
       "soundcloud.com            93  0.913978   0.976471  0.932584         0.956989   \n",
       "spotify.com               84  0.940476   0.950000  0.966102         0.702381   \n",
       "rdio.com                  91  1.000000   1.000000  1.000000         0.813187   \n",
       "stubhub.com               56  0.142857   0.000000  0.000000         0.857143   \n",
       "livenation.com            62  0.209677   0.000000  0.000000         0.500000   \n",
       "seatgeek.com              79  0.481013   0.782609  0.537313         0.848101   \n",
       "songkick.com              79  0.544304   0.545455  0.857143         0.531646   \n",
       "razorgator.com            85  0.600000   1.000000  0.585366         0.964706   \n",
       "thrillcall.com            91  0.791209   0.860465  0.740000         0.549451   \n",
       "bandsintown.com           99  0.888889   0.083333  1.000000         0.010101   \n",
       "ticketmaster.com          73  0.904110   0.931034  0.947368         0.780822   \n",
       "\n",
       "                  predicted_proportion       auc         action  \n",
       "domain                                                           \n",
       "rhapsody.com                  0.606742  0.532081   ListenAction  \n",
       "pandora.com                   0.551020  0.713333   ListenAction  \n",
       "soundcloud.com                0.913978  0.716292   ListenAction  \n",
       "spotify.com                   0.714286  0.923051   ListenAction  \n",
       "rdio.com                      0.813187  1.000000   ListenAction  \n",
       "stubhub.com                   0.000000  0.500000  TicketsAction  \n",
       "livenation.com                0.290323  0.209677  TicketsAction  \n",
       "seatgeek.com                  0.582278  0.351990  TicketsAction  \n",
       "songkick.com                  0.835443  0.523166  TicketsAction  \n",
       "razorgator.com                0.564706  0.792683  TicketsAction  \n",
       "thrillcall.com                0.472527  0.796829  TicketsAction  \n",
       "bandsintown.com               0.121212  0.943878  TicketsAction  \n",
       "ticketmaster.com              0.794521  0.848684  TicketsAction  "
      ]
     },
     "execution_count": 12,
     "metadata": {},
     "output_type": "execute_result"
    }
   ],
   "source": [
    "cvdf.sort(['action','accuracy'])"
   ]
  },
  {
   "cell_type": "markdown",
   "metadata": {},
   "source": [
    "As we can see, the accuracy of the classifier varies widely from domain to domain."
   ]
  },
  {
   "cell_type": "markdown",
   "metadata": {},
   "source": [
    "The column <code>page_count</code> is the number of pages with that domain in action_df -- while each domain has about 100 webpages in the full data set, we removed those pages that have <code>action_pct</code> within 0.1 of 0.5.\n",
    "\n",
    "The proportion of pages for each domain that did *not* have <code>action_pct</code> within 0.1 of 0.5 then gives us a coarse measure of the *consistency* of the CrowdFlower ratings for that domain:"
   ]
  },
  {
   "cell_type": "code",
   "execution_count": 13,
   "metadata": {
    "collapsed": false
   },
   "outputs": [
    {
     "data": {
      "text/html": [
       "<div style=\"max-height:1000px;max-width:1500px;overflow:auto;\">\n",
       "<table border=\"1\" class=\"dataframe\">\n",
       "  <thead>\n",
       "    <tr style=\"text-align: right;\">\n",
       "      <th></th>\n",
       "      <th>rating consistency</th>\n",
       "      <th>accuracy</th>\n",
       "    </tr>\n",
       "  </thead>\n",
       "  <tbody>\n",
       "    <tr>\n",
       "      <th>stubhub.com</th>\n",
       "      <td> 0.560000</td>\n",
       "      <td> 0.142857</td>\n",
       "    </tr>\n",
       "    <tr>\n",
       "      <th>livenation.com</th>\n",
       "      <td> 0.620000</td>\n",
       "      <td> 0.209677</td>\n",
       "    </tr>\n",
       "    <tr>\n",
       "      <th>seatgeek.com</th>\n",
       "      <td> 0.790000</td>\n",
       "      <td> 0.481013</td>\n",
       "    </tr>\n",
       "    <tr>\n",
       "      <th>songkick.com</th>\n",
       "      <td> 0.790000</td>\n",
       "      <td> 0.544304</td>\n",
       "    </tr>\n",
       "    <tr>\n",
       "      <th>rhapsody.com</th>\n",
       "      <td> 0.988889</td>\n",
       "      <td> 0.584270</td>\n",
       "    </tr>\n",
       "    <tr>\n",
       "      <th>razorgator.com</th>\n",
       "      <td> 0.867347</td>\n",
       "      <td> 0.600000</td>\n",
       "    </tr>\n",
       "    <tr>\n",
       "      <th>pandora.com</th>\n",
       "      <td> 0.490000</td>\n",
       "      <td> 0.714286</td>\n",
       "    </tr>\n",
       "    <tr>\n",
       "      <th>thrillcall.com</th>\n",
       "      <td> 0.910000</td>\n",
       "      <td> 0.791209</td>\n",
       "    </tr>\n",
       "    <tr>\n",
       "      <th>bandsintown.com</th>\n",
       "      <td> 0.990000</td>\n",
       "      <td> 0.888889</td>\n",
       "    </tr>\n",
       "    <tr>\n",
       "      <th>ticketmaster.com</th>\n",
       "      <td> 0.730000</td>\n",
       "      <td> 0.904110</td>\n",
       "    </tr>\n",
       "    <tr>\n",
       "      <th>soundcloud.com</th>\n",
       "      <td> 0.930000</td>\n",
       "      <td> 0.913978</td>\n",
       "    </tr>\n",
       "    <tr>\n",
       "      <th>spotify.com</th>\n",
       "      <td> 0.831683</td>\n",
       "      <td> 0.940476</td>\n",
       "    </tr>\n",
       "    <tr>\n",
       "      <th>rdio.com</th>\n",
       "      <td> 0.900990</td>\n",
       "      <td> 1.000000</td>\n",
       "    </tr>\n",
       "  </tbody>\n",
       "</table>\n",
       "</div>"
      ],
      "text/plain": [
       "                  rating consistency  accuracy\n",
       "stubhub.com                 0.560000  0.142857\n",
       "livenation.com              0.620000  0.209677\n",
       "seatgeek.com                0.790000  0.481013\n",
       "songkick.com                0.790000  0.544304\n",
       "rhapsody.com                0.988889  0.584270\n",
       "razorgator.com              0.867347  0.600000\n",
       "pandora.com                 0.490000  0.714286\n",
       "thrillcall.com              0.910000  0.791209\n",
       "bandsintown.com             0.990000  0.888889\n",
       "ticketmaster.com            0.730000  0.904110\n",
       "soundcloud.com              0.930000  0.913978\n",
       "spotify.com                 0.831683  0.940476\n",
       "rdio.com                    0.900990  1.000000"
      ]
     },
     "execution_count": 13,
     "metadata": {},
     "output_type": "execute_result"
    }
   ],
   "source": [
    "consistency = action_df.domain.value_counts() / raw_action_df.domain.value_counts()\n",
    "consistency.name = 'rating consistency'\n",
    "pd.DataFrame([consistency, cvdf.accuracy]).T.sort('accuracy')"
   ]
  },
  {
   "cell_type": "markdown",
   "metadata": {},
   "source": [
    "There is a mild positive correlation between the consistency of the ratings for a domain and the accuracy of the classifier on that domain:"
   ]
  },
  {
   "cell_type": "code",
   "execution_count": 14,
   "metadata": {
    "collapsed": false
   },
   "outputs": [
    {
     "name": "stdout",
     "output_type": "stream",
     "text": [
      "r = 0.546736\n"
     ]
    },
    {
     "data": {
      "image/png": "[encoded data removed]",
      "text/plain": [
       "<matplotlib.figure.Figure at 0x7f35e83be850>"
      ]
     },
     "metadata": {},
     "output_type": "display_data"
    }
   ],
   "source": [
    "sns.regplot(consistency,cvdf.accuracy)\n",
    "plt.title('Rating consistency vs classifier accuracy')\n",
    "print 'r = %f' % consistency.corr(cvdf.accuracy)"
   ]
  },
  {
   "cell_type": "markdown",
   "metadata": {},
   "source": [
    "However, rating consistency is clearly not the only factor affecting the accuracy of the classifier on different domains. For example, <code>rhapsody.com</code> has a very high consistency score (~0.99) and a very low accuracy (~0.58). Examining the source code of some actionable pages on <code>rhapsody.com</code> reveals that the \"play\" buttons are constructed in such a way that present method doesn't detect their text:\n",
    "\n",
    "<center><img src=\"rhapsody_button.png\"></img></center>"
   ]
  },
  {
   "cell_type": "markdown",
   "metadata": {},
   "source": [
    "This should be easily accounted for by extracting the text from children of button-like HTML elements."
   ]
  },
  {
   "cell_type": "markdown",
   "metadata": {},
   "source": [
    "Another domain on which the classifier fails is <code>seatgeek.com</code>. The buttons for searching for tickets on this site generally have text of the form \"FROM $x\":\n",
    "\n",
    "<center><img src=\"train_tickets.png\"></img></center>\n",
    "\n",
    "The human viewer understands from context that these are to be read as \"TICKETS FROM $35\" and so on, but this classifier apparently does not. To deal with pages like this, we may need to construct features that don't depend on the textual content of the buttons, instead using structural features like link density. Preliminary efforts along these lines have yet to pan out."
   ]
  }
 ],
 "metadata": {
  "kernelspec": {
   "display_name": "Python 2",
   "language": "python",
   "name": "python2"
  },
  "language_info": {
   "codemirror_mode": {
    "name": "ipython",
    "version": 2
   },
   "file_extension": ".py",
   "mimetype": "text/x-python",
   "name": "python",
   "nbconvert_exporter": "python",
   "pygments_lexer": "ipython2",
   "version": "2.7.10"
  }
 },
 "nbformat": 4,
 "nbformat_minor": 0
}
