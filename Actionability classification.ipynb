{
 "cells": [
  {
   "cell_type": "code",
   "execution_count": 112,
   "metadata": {
    "collapsed": true
   },
   "outputs": [],
   "source": [
    "import actionability\n",
    "import pandas as pd\n",
    "import numpy as np\n",
    "from gensim.models import Word2Vec\n",
    "from sklearn.linear_model import LogisticRegression\n",
    "from sklearn.metrics import precision_recall_fscore_support\n",
    "from selenium import webdriver"
   ]
  },
  {
   "cell_type": "markdown",
   "metadata": {},
   "source": [
    "Using the <a href=\"https://code.google.com/p/word2vec/\">Google News Word2Vec model<a>:"
   ]
  },
  {
   "cell_type": "code",
   "execution_count": 2,
   "metadata": {
    "collapsed": false
   },
   "outputs": [],
   "source": [
    "gnews_model = Word2Vec.load_word2vec_format('../data/GoogleNews-vectors-negative300.bin', binary=True)"
   ]
  },
  {
   "cell_type": "code",
   "execution_count": 3,
   "metadata": {
    "collapsed": true
   },
   "outputs": [],
   "source": [
    "with open('../data/stopwords.txt') as f:\n",
    "    stopwords = f.read().split(' ')"
   ]
  },
  {
   "cell_type": "markdown",
   "metadata": {},
   "source": [
    "Load up the CrowdFlower data:"
   ]
  },
  {
   "cell_type": "code",
   "execution_count": 39,
   "metadata": {
    "collapsed": false
   },
   "outputs": [],
   "source": [
    "df = pd.read_csv('../data/actiondataset1.csv',index_col=0)"
   ]
  },
  {
   "cell_type": "code",
   "execution_count": 148,
   "metadata": {
    "collapsed": false
   },
   "outputs": [
    {
     "data": {
      "text/html": [
       "<div style=\"max-height:1000px;max-width:1500px;overflow:auto;\">\n",
       "<table border=\"1\" class=\"dataframe\">\n",
       "  <thead>\n",
       "    <tr style=\"text-align: right;\">\n",
       "      <th></th>\n",
       "      <th>_unit_id</th>\n",
       "      <th>_created_at</th>\n",
       "      <th>_golden</th>\n",
       "      <th>actionrating</th>\n",
       "      <th>action</th>\n",
       "      <th>action_inst</th>\n",
       "      <th>domain</th>\n",
       "      <th>site</th>\n",
       "    </tr>\n",
       "  </thead>\n",
       "  <tbody>\n",
       "    <tr>\n",
       "      <th>24</th>\n",
       "      <td> 716816272</td>\n",
       "      <td> 5/7/2015 16:55:09</td>\n",
       "      <td> False</td>\n",
       "      <td>  No</td>\n",
       "      <td> TicketsAction</td>\n",
       "      <td> TicketsAction: Does the page have a Web Link t...</td>\n",
       "      <td> todaytix.com</td>\n",
       "      <td> http://blog.todaytix.com/tagged/Shoshana+Bean?...</td>\n",
       "    </tr>\n",
       "    <tr>\n",
       "      <th>25</th>\n",
       "      <td> 716816272</td>\n",
       "      <td> 5/7/2015 16:55:48</td>\n",
       "      <td> False</td>\n",
       "      <td>  No</td>\n",
       "      <td> TicketsAction</td>\n",
       "      <td> TicketsAction: Does the page have a Web Link t...</td>\n",
       "      <td> todaytix.com</td>\n",
       "      <td> http://blog.todaytix.com/tagged/Shoshana+Bean?...</td>\n",
       "    </tr>\n",
       "    <tr>\n",
       "      <th>26</th>\n",
       "      <td> 716816272</td>\n",
       "      <td> 5/7/2015 16:56:04</td>\n",
       "      <td> False</td>\n",
       "      <td>  No</td>\n",
       "      <td> TicketsAction</td>\n",
       "      <td> TicketsAction: Does the page have a Web Link t...</td>\n",
       "      <td> todaytix.com</td>\n",
       "      <td> http://blog.todaytix.com/tagged/Shoshana+Bean?...</td>\n",
       "    </tr>\n",
       "    <tr>\n",
       "      <th>27</th>\n",
       "      <td> 716816272</td>\n",
       "      <td> 5/7/2015 16:57:08</td>\n",
       "      <td> False</td>\n",
       "      <td> Yes</td>\n",
       "      <td> TicketsAction</td>\n",
       "      <td> TicketsAction: Does the page have a Web Link t...</td>\n",
       "      <td> todaytix.com</td>\n",
       "      <td> http://blog.todaytix.com/tagged/Shoshana+Bean?...</td>\n",
       "    </tr>\n",
       "    <tr>\n",
       "      <th>28</th>\n",
       "      <td> 716816272</td>\n",
       "      <td> 5/7/2015 16:57:17</td>\n",
       "      <td> False</td>\n",
       "      <td> Yes</td>\n",
       "      <td> TicketsAction</td>\n",
       "      <td> TicketsAction: Does the page have a Web Link t...</td>\n",
       "      <td> todaytix.com</td>\n",
       "      <td> http://blog.todaytix.com/tagged/Shoshana+Bean?...</td>\n",
       "    </tr>\n",
       "  </tbody>\n",
       "</table>\n",
       "</div>"
      ],
      "text/plain": [
       "     _unit_id        _created_at _golden actionrating         action  \\\n",
       "24  716816272  5/7/2015 16:55:09   False           No  TicketsAction   \n",
       "25  716816272  5/7/2015 16:55:48   False           No  TicketsAction   \n",
       "26  716816272  5/7/2015 16:56:04   False           No  TicketsAction   \n",
       "27  716816272  5/7/2015 16:57:08   False          Yes  TicketsAction   \n",
       "28  716816272  5/7/2015 16:57:17   False          Yes  TicketsAction   \n",
       "\n",
       "                                          action_inst        domain  \\\n",
       "24  TicketsAction: Does the page have a Web Link t...  todaytix.com   \n",
       "25  TicketsAction: Does the page have a Web Link t...  todaytix.com   \n",
       "26  TicketsAction: Does the page have a Web Link t...  todaytix.com   \n",
       "27  TicketsAction: Does the page have a Web Link t...  todaytix.com   \n",
       "28  TicketsAction: Does the page have a Web Link t...  todaytix.com   \n",
       "\n",
       "                                                 site  \n",
       "24  http://blog.todaytix.com/tagged/Shoshana+Bean?...  \n",
       "25  http://blog.todaytix.com/tagged/Shoshana+Bean?...  \n",
       "26  http://blog.todaytix.com/tagged/Shoshana+Bean?...  \n",
       "27  http://blog.todaytix.com/tagged/Shoshana+Bean?...  \n",
       "28  http://blog.todaytix.com/tagged/Shoshana+Bean?...  "
      ]
     },
     "execution_count": 148,
     "metadata": {},
     "output_type": "execute_result"
    }
   ],
   "source": [
    "df.head()"
   ]
  },
  {
   "cell_type": "markdown",
   "metadata": {},
   "source": [
    "Aggregate ratings by averaging across users per website to obtain a percentage action rating."
   ]
  },
  {
   "cell_type": "code",
   "execution_count": 149,
   "metadata": {
    "collapsed": false
   },
   "outputs": [
    {
     "data": {
      "text/html": [
       "<div style=\"max-height:1000px;max-width:1500px;overflow:auto;\">\n",
       "<table border=\"1\" class=\"dataframe\">\n",
       "  <thead>\n",
       "    <tr style=\"text-align: right;\">\n",
       "      <th></th>\n",
       "      <th>action</th>\n",
       "      <th>action_inst</th>\n",
       "      <th>actionrating</th>\n",
       "      <th>domain</th>\n",
       "      <th>site</th>\n",
       "      <th>rating_count</th>\n",
       "    </tr>\n",
       "    <tr>\n",
       "      <th>_unit_id</th>\n",
       "      <th></th>\n",
       "      <th></th>\n",
       "      <th></th>\n",
       "      <th></th>\n",
       "      <th></th>\n",
       "      <th></th>\n",
       "    </tr>\n",
       "  </thead>\n",
       "  <tbody>\n",
       "    <tr>\n",
       "      <th>716816272</th>\n",
       "      <td> TicketsAction</td>\n",
       "      <td> TicketsAction: Does the page have a Web Link t...</td>\n",
       "      <td> 0.461538</td>\n",
       "      <td> todaytix.com</td>\n",
       "      <td> http://blog.todaytix.com/tagged/Shoshana+Bean?...</td>\n",
       "      <td> 13</td>\n",
       "    </tr>\n",
       "    <tr>\n",
       "      <th>716816295</th>\n",
       "      <td>  ListenAction</td>\n",
       "      <td> ListenAction: Does the web page offer you the ...</td>\n",
       "      <td> 0.866667</td>\n",
       "      <td>     rdio.com</td>\n",
       "      <td> http://www.rdio.com/browse/?ppKey\\u003dstation...</td>\n",
       "      <td> 15</td>\n",
       "    </tr>\n",
       "    <tr>\n",
       "      <th>716816300</th>\n",
       "      <td> TicketsAction</td>\n",
       "      <td> TicketsAction: Does the page have a Web Link t...</td>\n",
       "      <td> 0.555556</td>\n",
       "      <td> todaytix.com</td>\n",
       "      <td> http://blog.todaytix.com/tagged/Jason+Robert+B...</td>\n",
       "      <td>  9</td>\n",
       "    </tr>\n",
       "    <tr>\n",
       "      <th>716816328</th>\n",
       "      <td>  ListenAction</td>\n",
       "      <td> ListenAction: Does the web page offer you the ...</td>\n",
       "      <td> 0.500000</td>\n",
       "      <td>  spotify.com</td>\n",
       "      <td> https://press.spotify.com/int/2013/12/17/spoti...</td>\n",
       "      <td> 10</td>\n",
       "    </tr>\n",
       "    <tr>\n",
       "      <th>716817009</th>\n",
       "      <td>  ListenAction</td>\n",
       "      <td> ListenAction: Does the web page offer you the ...</td>\n",
       "      <td> 0.000000</td>\n",
       "      <td> rhapsody.com</td>\n",
       "      <td> http://api.rhapsody.com/v1/genres/g.397/posts?...</td>\n",
       "      <td>  9</td>\n",
       "    </tr>\n",
       "  </tbody>\n",
       "</table>\n",
       "</div>"
      ],
      "text/plain": [
       "                  action                                        action_inst  \\\n",
       "_unit_id                                                                      \n",
       "716816272  TicketsAction  TicketsAction: Does the page have a Web Link t...   \n",
       "716816295   ListenAction  ListenAction: Does the web page offer you the ...   \n",
       "716816300  TicketsAction  TicketsAction: Does the page have a Web Link t...   \n",
       "716816328   ListenAction  ListenAction: Does the web page offer you the ...   \n",
       "716817009   ListenAction  ListenAction: Does the web page offer you the ...   \n",
       "\n",
       "           actionrating        domain  \\\n",
       "_unit_id                                \n",
       "716816272      0.461538  todaytix.com   \n",
       "716816295      0.866667      rdio.com   \n",
       "716816300      0.555556  todaytix.com   \n",
       "716816328      0.500000   spotify.com   \n",
       "716817009      0.000000  rhapsody.com   \n",
       "\n",
       "                                                        site  rating_count  \n",
       "_unit_id                                                                    \n",
       "716816272  http://blog.todaytix.com/tagged/Shoshana+Bean?...            13  \n",
       "716816295  http://www.rdio.com/browse/?ppKey\\u003dstation...            15  \n",
       "716816300  http://blog.todaytix.com/tagged/Jason+Robert+B...             9  \n",
       "716816328  https://press.spotify.com/int/2013/12/17/spoti...            10  \n",
       "716817009  http://api.rhapsody.com/v1/genres/g.397/posts?...             9  "
      ]
     },
     "execution_count": 149,
     "metadata": {},
     "output_type": "execute_result"
    }
   ],
   "source": [
    "agg_df = actionability.aggregate_ratings(df)\n",
    "agg_df.head()"
   ]
  },
  {
   "cell_type": "code",
   "execution_count": 152,
   "metadata": {
    "collapsed": false
   },
   "outputs": [
    {
     "data": {
      "text/plain": [
       "spotify.com         101\n",
       "rdio.com            101\n",
       "songkick.com        100\n",
       "stubhub.com         100\n",
       "razorgator.com      100\n",
       "livenation.com      100\n",
       "pandora.com         100\n",
       "soundcloud.com      100\n",
       "seatgeek.com        100\n",
       "bandsintown.com     100\n",
       "ticketmaster.com    100\n",
       "rhapsody.com        100\n",
       "thrillcall.com      100\n",
       "todaytix.com          2\n",
       "gametime.co           1\n",
       "dtype: int64"
      ]
     },
     "execution_count": 152,
     "metadata": {},
     "output_type": "execute_result"
    }
   ],
   "source": [
    "agg_df.domain.value_counts()"
   ]
  },
  {
   "cell_type": "markdown",
   "metadata": {},
   "source": [
    "We'll exclude todaytix and gametime in our cross-validation."
   ]
  },
  {
   "cell_type": "code",
   "execution_count": 153,
   "metadata": {
    "collapsed": false
   },
   "outputs": [],
   "source": [
    "agg_df = agg_df[(agg_df.domain != 'todaytix.com') & (agg_df.domain != 'gametime.co')]"
   ]
  },
  {
   "cell_type": "markdown",
   "metadata": {},
   "source": [
    "Create a DataFrame of features <code>vec_df</code> by retrieving the source of each webpage and vectorize using <code>actionability.vectorize_from_source</code>. This takes a while, so I include a precomputed CSV file (<code>vec_df.csv</code>)."
   ]
  },
  {
   "cell_type": "code",
   "execution_count": null,
   "metadata": {
    "collapsed": true
   },
   "outputs": [],
   "source": [
    "#source_ser = actionability.get_source_series(agg_df.site, driver=webdriver.PhantomJS())\n",
    "#vec_series = source_ser.apply(lambda source:actionability.vectorize_from_source(source, gnews_model, stopwords))\n",
    "#vec_df = actionability.vector_series_to_df(vec_series)\n",
    "\n",
    "vec_df = pd.read_csv('vec_df.csv',index_col=0)"
   ]
  },
  {
   "cell_type": "code",
   "execution_count": 154,
   "metadata": {
    "collapsed": false
   },
   "outputs": [
    {
     "data": {
      "text/html": [
       "<div style=\"max-height:1000px;max-width:1500px;overflow:auto;\">\n",
       "<table border=\"1\" class=\"dataframe\">\n",
       "  <thead>\n",
       "    <tr style=\"text-align: right;\">\n",
       "      <th></th>\n",
       "      <th>0</th>\n",
       "      <th>1</th>\n",
       "      <th>2</th>\n",
       "      <th>3</th>\n",
       "      <th>4</th>\n",
       "      <th>5</th>\n",
       "      <th>6</th>\n",
       "      <th>7</th>\n",
       "      <th>8</th>\n",
       "      <th>9</th>\n",
       "      <th>...</th>\n",
       "      <th>290</th>\n",
       "      <th>291</th>\n",
       "      <th>292</th>\n",
       "      <th>293</th>\n",
       "      <th>294</th>\n",
       "      <th>295</th>\n",
       "      <th>296</th>\n",
       "      <th>297</th>\n",
       "      <th>298</th>\n",
       "      <th>299</th>\n",
       "    </tr>\n",
       "    <tr>\n",
       "      <th>_unit_id</th>\n",
       "      <th></th>\n",
       "      <th></th>\n",
       "      <th></th>\n",
       "      <th></th>\n",
       "      <th></th>\n",
       "      <th></th>\n",
       "      <th></th>\n",
       "      <th></th>\n",
       "      <th></th>\n",
       "      <th></th>\n",
       "      <th></th>\n",
       "      <th></th>\n",
       "      <th></th>\n",
       "      <th></th>\n",
       "      <th></th>\n",
       "      <th></th>\n",
       "      <th></th>\n",
       "      <th></th>\n",
       "      <th></th>\n",
       "      <th></th>\n",
       "      <th></th>\n",
       "    </tr>\n",
       "  </thead>\n",
       "  <tbody>\n",
       "    <tr>\n",
       "      <th>716816272</th>\n",
       "      <td> 10.069473</td>\n",
       "      <td>  9.321749</td>\n",
       "      <td> -4.064606</td>\n",
       "      <td>  48.464424</td>\n",
       "      <td> -41.245636</td>\n",
       "      <td>  5.038231</td>\n",
       "      <td> -3.107137</td>\n",
       "      <td>-41.918358</td>\n",
       "      <td>  37.715382</td>\n",
       "      <td> 13.004594</td>\n",
       "      <td>...</td>\n",
       "      <td> 15.889442</td>\n",
       "      <td>  33.140083</td>\n",
       "      <td>-34.716434</td>\n",
       "      <td>  9.090375</td>\n",
       "      <td>-1.326906</td>\n",
       "      <td>-58.531166</td>\n",
       "      <td>  3.250105</td>\n",
       "      <td>-54.855858</td>\n",
       "      <td>-36.859932</td>\n",
       "      <td>  4.588878</td>\n",
       "    </tr>\n",
       "    <tr>\n",
       "      <th>716816295</th>\n",
       "      <td>-11.258841</td>\n",
       "      <td> 59.295261</td>\n",
       "      <td> 19.907583</td>\n",
       "      <td> 115.833015</td>\n",
       "      <td>-101.339340</td>\n",
       "      <td> 18.915688</td>\n",
       "      <td> 18.909508</td>\n",
       "      <td>-97.301460</td>\n",
       "      <td> 123.350487</td>\n",
       "      <td> 57.115135</td>\n",
       "      <td>...</td>\n",
       "      <td> -0.428824</td>\n",
       "      <td> 115.269157</td>\n",
       "      <td>-94.980164</td>\n",
       "      <td> 26.671297</td>\n",
       "      <td>-9.354056</td>\n",
       "      <td>-77.142555</td>\n",
       "      <td>-27.885612</td>\n",
       "      <td>-69.142197</td>\n",
       "      <td>-76.349159</td>\n",
       "      <td> 35.548969</td>\n",
       "    </tr>\n",
       "    <tr>\n",
       "      <th>716816300</th>\n",
       "      <td>  8.139248</td>\n",
       "      <td> 14.705843</td>\n",
       "      <td> -2.836876</td>\n",
       "      <td>  58.641243</td>\n",
       "      <td> -45.268124</td>\n",
       "      <td>  2.378229</td>\n",
       "      <td> -5.284815</td>\n",
       "      <td>-52.851181</td>\n",
       "      <td>  45.638798</td>\n",
       "      <td> 17.133730</td>\n",
       "      <td>...</td>\n",
       "      <td> 16.641171</td>\n",
       "      <td>  38.699951</td>\n",
       "      <td>-41.015625</td>\n",
       "      <td> 15.234818</td>\n",
       "      <td>-3.316744</td>\n",
       "      <td>-72.264549</td>\n",
       "      <td>  2.748202</td>\n",
       "      <td>-68.977898</td>\n",
       "      <td>-45.933250</td>\n",
       "      <td>  4.678903</td>\n",
       "    </tr>\n",
       "    <tr>\n",
       "      <th>716816328</th>\n",
       "      <td>  3.140223</td>\n",
       "      <td> 15.963882</td>\n",
       "      <td> -9.070687</td>\n",
       "      <td>  47.742367</td>\n",
       "      <td> -41.611755</td>\n",
       "      <td>-10.543368</td>\n",
       "      <td>  2.995939</td>\n",
       "      <td>-58.924545</td>\n",
       "      <td>  63.105946</td>\n",
       "      <td> 30.748421</td>\n",
       "      <td>...</td>\n",
       "      <td>  4.946953</td>\n",
       "      <td>  33.525127</td>\n",
       "      <td>-37.237831</td>\n",
       "      <td> 22.710173</td>\n",
       "      <td>-6.841942</td>\n",
       "      <td>-45.907303</td>\n",
       "      <td>-16.709261</td>\n",
       "      <td>-52.530914</td>\n",
       "      <td>-16.527824</td>\n",
       "      <td> 13.478872</td>\n",
       "    </tr>\n",
       "    <tr>\n",
       "      <th>716817009</th>\n",
       "      <td>  0.165652</td>\n",
       "      <td> -0.015591</td>\n",
       "      <td>  0.128503</td>\n",
       "      <td>  -0.182143</td>\n",
       "      <td>  -0.102472</td>\n",
       "      <td> -0.019821</td>\n",
       "      <td> -0.151380</td>\n",
       "      <td>  0.138392</td>\n",
       "      <td>   0.061157</td>\n",
       "      <td> -0.077420</td>\n",
       "      <td>...</td>\n",
       "      <td> -0.006594</td>\n",
       "      <td>   0.066137</td>\n",
       "      <td>  0.177061</td>\n",
       "      <td> -0.143382</td>\n",
       "      <td>-0.050867</td>\n",
       "      <td> -0.093446</td>\n",
       "      <td> -0.005401</td>\n",
       "      <td> -0.432284</td>\n",
       "      <td> -0.129643</td>\n",
       "      <td> -0.027799</td>\n",
       "    </tr>\n",
       "  </tbody>\n",
       "</table>\n",
       "<p>5 rows × 300 columns</p>\n",
       "</div>"
      ],
      "text/plain": [
       "                   0          1          2           3           4          5  \\\n",
       "_unit_id                                                                        \n",
       "716816272  10.069473   9.321749  -4.064606   48.464424  -41.245636   5.038231   \n",
       "716816295 -11.258841  59.295261  19.907583  115.833015 -101.339340  18.915688   \n",
       "716816300   8.139248  14.705843  -2.836876   58.641243  -45.268124   2.378229   \n",
       "716816328   3.140223  15.963882  -9.070687   47.742367  -41.611755 -10.543368   \n",
       "716817009   0.165652  -0.015591   0.128503   -0.182143   -0.102472  -0.019821   \n",
       "\n",
       "                   6          7           8          9    ...            290  \\\n",
       "_unit_id                                                  ...                  \n",
       "716816272  -3.107137 -41.918358   37.715382  13.004594    ...      15.889442   \n",
       "716816295  18.909508 -97.301460  123.350487  57.115135    ...      -0.428824   \n",
       "716816300  -5.284815 -52.851181   45.638798  17.133730    ...      16.641171   \n",
       "716816328   2.995939 -58.924545   63.105946  30.748421    ...       4.946953   \n",
       "716817009  -0.151380   0.138392    0.061157  -0.077420    ...      -0.006594   \n",
       "\n",
       "                  291        292        293       294        295        296  \\\n",
       "_unit_id                                                                      \n",
       "716816272   33.140083 -34.716434   9.090375 -1.326906 -58.531166   3.250105   \n",
       "716816295  115.269157 -94.980164  26.671297 -9.354056 -77.142555 -27.885612   \n",
       "716816300   38.699951 -41.015625  15.234818 -3.316744 -72.264549   2.748202   \n",
       "716816328   33.525127 -37.237831  22.710173 -6.841942 -45.907303 -16.709261   \n",
       "716817009    0.066137   0.177061  -0.143382 -0.050867  -0.093446  -0.005401   \n",
       "\n",
       "                 297        298        299  \n",
       "_unit_id                                    \n",
       "716816272 -54.855858 -36.859932   4.588878  \n",
       "716816295 -69.142197 -76.349159  35.548969  \n",
       "716816300 -68.977898 -45.933250   4.678903  \n",
       "716816328 -52.530914 -16.527824  13.478872  \n",
       "716817009  -0.432284  -0.129643  -0.027799  \n",
       "\n",
       "[5 rows x 300 columns]"
      ]
     },
     "execution_count": 154,
     "metadata": {},
     "output_type": "execute_result"
    }
   ],
   "source": [
    "vec_df.head()"
   ]
  },
  {
   "cell_type": "markdown",
   "metadata": {},
   "source": [
    "For each action, perform leave-one-label-out cross-validation using the domain names as labels."
   ]
  },
  {
   "cell_type": "code",
   "execution_count": 147,
   "metadata": {
    "collapsed": false
   },
   "outputs": [
    {
     "name": "stdout",
     "output_type": "stream",
     "text": [
      "TicketsAction\n",
      "                  precision    recall  accuracy  true_rate\n",
      "domain                                                    \n",
      "bandsintown.com    0.050000  0.500000      0.80       0.02\n",
      "livenation.com     0.654545  0.782609      0.71       0.46\n",
      "razorgator.com     0.938272  0.835165      0.80       0.91\n",
      "seatgeek.com       0.770000  1.000000      0.77       0.77\n",
      "songkick.com       1.000000  0.355556      0.71       0.45\n",
      "stubhub.com        0.780000  1.000000      0.78       0.78\n",
      "thrillcall.com     0.741379  0.796296      0.74       0.54\n",
      "ticketmaster.com   0.711538  0.513889      0.50       0.72 \n",
      "\n",
      "overall precision: 0.755187\n",
      "overall recall: 0.782796\n",
      "overall accuracy: 0.726250 \n",
      "\n",
      "ListenAction\n",
      "                precision    recall  accuracy  true_rate\n",
      "domain                                                  \n",
      "pandora.com      0.500000  0.250000  0.440000   0.560000\n",
      "rdio.com         0.000000  0.000000  0.168317   0.801980\n",
      "rhapsody.com     0.846154  0.916667  0.820000   0.720000\n",
      "soundcloud.com   0.923077  0.266667  0.320000   0.900000\n",
      "spotify.com      0.967742  0.895522  0.910891   0.663366 \n",
      "\n",
      "overall precision: 0.832487\n",
      "overall recall: 0.448087\n",
      "overall accuracy: 0.531873 \n",
      "\n"
     ]
    }
   ],
   "source": [
    "clf = LogisticRegression(C=0.6)\n",
    "gb = agg_df.groupby('action')\n",
    "for action in gb.groups.keys():\n",
    "    \n",
    "    all_Y_true = []\n",
    "    all_Y_pred = []\n",
    "    \n",
    "    print action\n",
    "    action_index = gb.groups[action]\n",
    "    X_df = vec_df.ix[action_index]\n",
    "    Y_ser = (agg_df.actionrating > 0.5).ix[action_index]\n",
    "    \n",
    "    rows = []\n",
    "    \n",
    "    for domain in np.unique(agg_df.ix[action_index].domain):\n",
    "        train_index = X_df[agg_df.domain != domain].index\n",
    "        test_index = X_df[agg_df.domain == domain].index\n",
    "        \n",
    "        \n",
    "        X_train = X_df.ix[train_index].values\n",
    "        Y_train = Y_ser[train_index].values\n",
    "        \n",
    "        X_test = X_df.ix[test_index].values\n",
    "        Y_true = Y_ser[test_index].values\n",
    "        \n",
    "       \n",
    "        clf.fit(X_train, Y_train)\n",
    "        \n",
    "        Y_pred = clf.predict(X_test)\n",
    "        prec, recall, fscore, support = precision_recall_fscore_support(Y_true, Y_pred, average='binary')\n",
    "        accuracy = (Y_true == Y_pred).mean()\n",
    "        rows.append({'domain':domain, 'precision':prec, 'recall':recall, 'accuracy':accuracy, 'true_rate':np.mean(Y_true)})\n",
    "        ac_df = pd.DataFrame(rows)\n",
    "        ac_df.set_index('domain',inplace=True)\n",
    "        \n",
    "        all_Y_true += list(Y_true)\n",
    "        all_Y_pred += list(Y_pred)\n",
    "        \n",
    "    print ac_df[['precision','recall','accuracy','true_rate']], '\\n'\n",
    "    \n",
    "    prec, recall, fscore, support = precision_recall_fscore_support(all_Y_true, all_Y_pred, average='binary')\n",
    "    accuracy = (np.array(all_Y_true) == np.array(all_Y_pred)).mean()\n",
    "    print 'overall precision: %f' % prec\n",
    "    print 'overall recall: %f' % recall\n",
    "    print 'overall accuracy: %f' % accuracy, '\\n'\n",
    "    "
   ]
  },
  {
   "cell_type": "markdown",
   "metadata": {},
   "source": [
    "These results differ somewhat from the results given in the slides, owing perhaps to the webpages changing over time."
   ]
  }
 ],
 "metadata": {
  "kernelspec": {
   "display_name": "Python 2",
   "language": "python",
   "name": "python2"
  },
  "language_info": {
   "codemirror_mode": {
    "name": "ipython",
    "version": 2
   },
   "file_extension": ".py",
   "mimetype": "text/x-python",
   "name": "python",
   "nbconvert_exporter": "python",
   "pygments_lexer": "ipython2",
   "version": "2.7.10"
  }
 },
 "nbformat": 4,
 "nbformat_minor": 0
}
